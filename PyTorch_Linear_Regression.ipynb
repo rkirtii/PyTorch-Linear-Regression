{
 "cells": [
  {
   "cell_type": "code",
   "execution_count": 209,
   "id": "9f372002-f6dd-4569-a512-87cd95b09416",
   "metadata": {},
   "outputs": [],
   "source": [
    "import torch\n",
    "import numpy as np\n",
    "import torch.nn as nn\n",
    "import matplotlib.pyplot as plt"
   ]
  },
  {
   "cell_type": "code",
   "execution_count": 183,
   "id": "20ef0b9a-b483-468c-b379-88619f6d3e0d",
   "metadata": {},
   "outputs": [],
   "source": [
    "class Model(nn.Module):\n",
    "    def __init__(self,in_features, out_features):\n",
    "        super().__init__()\n",
    "        self.linear=nn.Linear(in_features,out_features)\n",
    "        \n",
    "    def forward(self,x):\n",
    "        y_pred = self.linear(x)\n",
    "        return y_pred"
   ]
  },
  {
   "cell_type": "code",
   "execution_count": 184,
   "id": "a38d8a98-f72d-44bf-a5ed-bd413ecd9f46",
   "metadata": {},
   "outputs": [
    {
     "name": "stdout",
     "output_type": "stream",
     "text": [
      "Parameter containing:\n",
      "tensor([[0.1060]], requires_grad=True)\n",
      "Parameter containing:\n",
      "tensor([0.9638], requires_grad=True)\n"
     ]
    }
   ],
   "source": [
    "torch.manual_seed(59)\n",
    "model=Model(1,1)\n",
    "print(model.linear.weight)\n",
    "print(model.linear.bias)"
   ]
  },
  {
   "cell_type": "code",
   "execution_count": 185,
   "id": "4dfe6ac2-0fc9-4079-8176-d9f7cf7d7869",
   "metadata": {},
   "outputs": [
    {
     "data": {
      "text/plain": [
       "tensor([1.1758], grad_fn=<ViewBackward0>)"
      ]
     },
     "execution_count": 185,
     "metadata": {},
     "output_type": "execute_result"
    }
   ],
   "source": [
    "x=torch.tensor([2.0])\n",
    "model.forward(x)"
   ]
  },
  {
   "cell_type": "code",
   "execution_count": null,
   "id": "cc34da9a-9635-4531-9963-04867a90a989",
   "metadata": {},
   "outputs": [],
   "source": []
  },
  {
   "cell_type": "code",
   "execution_count": null,
   "id": "fde9e8b5-12c4-4cdd-b1b3-8ab916659c24",
   "metadata": {},
   "outputs": [],
   "source": []
  },
  {
   "cell_type": "code",
   "execution_count": null,
   "id": "7fa6991c-3bc0-4825-8bee-41573f4ce7f8",
   "metadata": {},
   "outputs": [],
   "source": []
  },
  {
   "cell_type": "code",
   "execution_count": null,
   "id": "3b11c915-823d-4448-a4dc-7703a171cb8e",
   "metadata": {},
   "outputs": [],
   "source": []
  },
  {
   "cell_type": "code",
   "execution_count": null,
   "id": "89b3590b-803e-4578-8b51-ad6337aee060",
   "metadata": {},
   "outputs": [],
   "source": []
  },
  {
   "cell_type": "code",
   "execution_count": 186,
   "id": "8f0c474b-0a89-4bfe-a2ab-81ee43968a13",
   "metadata": {},
   "outputs": [],
   "source": [
    "X=torch.linspace(1,50.,50).reshape(-1,1)"
   ]
  },
  {
   "cell_type": "code",
   "execution_count": 187,
   "id": "fc813c35-e08b-4455-b76b-5da2d0da2049",
   "metadata": {},
   "outputs": [],
   "source": [
    "torch.manual_seed(71)\n",
    "e=torch.randint(-8,9,(50,1),dtype=float)"
   ]
  },
  {
   "cell_type": "code",
   "execution_count": 188,
   "id": "44d0d1f2-f196-4fa5-9b6b-171b43ab1440",
   "metadata": {},
   "outputs": [],
   "source": [
    "y=2*X+1+e"
   ]
  },
  {
   "cell_type": "code",
   "execution_count": 189,
   "id": "9827c4a4-b20d-4d4b-90c4-8f3bf430ec51",
   "metadata": {},
   "outputs": [
    {
     "data": {
      "text/plain": [
       "<matplotlib.collections.PathCollection at 0x7f2a03935990>"
      ]
     },
     "execution_count": 189,
     "metadata": {},
     "output_type": "execute_result"
    },
    {
     "data": {
      "image/png": "[encoded data removed]",
      "text/plain": [
       "<Figure size 640x480 with 1 Axes>"
      ]
     },
     "metadata": {},
     "output_type": "display_data"
    }
   ],
   "source": [
    "plt.scatter(X.numpy(),y.numpy())"
   ]
  },
  {
   "cell_type": "code",
   "execution_count": null,
   "id": "6960f3fa-0418-455d-9046-f156d317653f",
   "metadata": {},
   "outputs": [],
   "source": []
  },
  {
   "cell_type": "code",
   "execution_count": null,
   "id": "62f71faa-8658-4585-97e0-6a192c72f907",
   "metadata": {},
   "outputs": [],
   "source": []
  },
  {
   "cell_type": "code",
   "execution_count": null,
   "id": "5eb347c3-f69d-4f0e-981c-95502084ba2a",
   "metadata": {},
   "outputs": [],
   "source": []
  },
  {
   "cell_type": "code",
   "execution_count": null,
   "id": "497e5ef0-71eb-4d57-802d-ee882a83b8a9",
   "metadata": {},
   "outputs": [],
   "source": []
  },
  {
   "cell_type": "code",
   "execution_count": 190,
   "id": "9b9e8063-873d-4d9e-9ac0-c2e24c14df31",
   "metadata": {},
   "outputs": [],
   "source": [
    "# Plotting graph for random values of x1 and the weights and bias of our linear model defined previously."
   ]
  },
  {
   "cell_type": "code",
   "execution_count": 191,
   "id": "9abd0950-38b7-4b37-91e6-4165f92c008c",
   "metadata": {},
   "outputs": [
    {
     "data": {
      "text/plain": [
       "array([ 0.        ,  1.02040816,  2.04081633,  3.06122449,  4.08163265,\n",
       "        5.10204082,  6.12244898,  7.14285714,  8.16326531,  9.18367347,\n",
       "       10.20408163, 11.2244898 , 12.24489796, 13.26530612, 14.28571429,\n",
       "       15.30612245, 16.32653061, 17.34693878, 18.36734694, 19.3877551 ,\n",
       "       20.40816327, 21.42857143, 22.44897959, 23.46938776, 24.48979592,\n",
       "       25.51020408, 26.53061224, 27.55102041, 28.57142857, 29.59183673,\n",
       "       30.6122449 , 31.63265306, 32.65306122, 33.67346939, 34.69387755,\n",
       "       35.71428571, 36.73469388, 37.75510204, 38.7755102 , 39.79591837,\n",
       "       40.81632653, 41.83673469, 42.85714286, 43.87755102, 44.89795918,\n",
       "       45.91836735, 46.93877551, 47.95918367, 48.97959184, 50.        ])"
      ]
     },
     "execution_count": 191,
     "metadata": {},
     "output_type": "execute_result"
    }
   ],
   "source": [
    "x1=np.linspace(0,50.,50)   # Remember only arrays are plotted through plt. If its tensor it has to be converted to numpy beforehand.\n",
    "x1"
   ]
  },
  {
   "cell_type": "code",
   "execution_count": 192,
   "id": "f5b13179-d5a5-4872-ae06-456e9b6f31de",
   "metadata": {},
   "outputs": [],
   "source": [
    "w=0.1060\n",
    "b=0.9638\n",
    "y1=w*x1+b"
   ]
  },
  {
   "cell_type": "code",
   "execution_count": 193,
   "id": "dfb1f555-474f-4bb2-a8d8-194ffbd9dd87",
   "metadata": {},
   "outputs": [
    {
     "data": {
      "text/plain": [
       "[<matplotlib.lines.Line2D at 0x7f2a020d6c50>]"
      ]
     },
     "execution_count": 193,
     "metadata": {},
     "output_type": "execute_result"
    },
    {
     "data": {
      "image/png": "[encoded data removed]",
      "text/plain": [
       "<Figure size 640x480 with 1 Axes>"
      ]
     },
     "metadata": {},
     "output_type": "display_data"
    }
   ],
   "source": [
    "plt.plot(x1,y1,'r')"
   ]
  },
  {
   "cell_type": "code",
   "execution_count": 194,
   "id": "4e884d55-947d-4ff3-9a7f-abaef1f56456",
   "metadata": {},
   "outputs": [],
   "source": [
    "# Now super imposing other values stored in X onto the above graph"
   ]
  },
  {
   "cell_type": "code",
   "execution_count": 195,
   "id": "5c122e6f-c5a8-47bb-bb1e-f1a7c0c167a4",
   "metadata": {},
   "outputs": [
    {
     "data": {
      "text/plain": [
       "[<matplotlib.lines.Line2D at 0x7f2a020d5750>]"
      ]
     },
     "execution_count": 195,
     "metadata": {},
     "output_type": "execute_result"
    },
    {
     "data": {
      "image/png": "[encoded data removed]",
      "text/plain": [
       "<Figure size 640x480 with 1 Axes>"
      ]
     },
     "metadata": {},
     "output_type": "display_data"
    }
   ],
   "source": [
    "plt.scatter(X.numpy(),y.numpy())\n",
    "plt.plot(x1,y1,'r')"
   ]
  },
  {
   "cell_type": "code",
   "execution_count": 196,
   "id": "43d2339b-6862-49bd-b1a5-94676e347594",
   "metadata": {},
   "outputs": [],
   "source": [
    "# We see above that with the current weight and bias, the model is performing poorly (red line should overlap dotted).\n",
    "# So, now we have to train our model."
   ]
  },
  {
   "cell_type": "code",
   "execution_count": null,
   "id": "f832f0e5-c774-4d55-bfe9-8e56198e23d8",
   "metadata": {},
   "outputs": [],
   "source": []
  },
  {
   "cell_type": "code",
   "execution_count": null,
   "id": "e8e03209-fb96-4cad-980c-74cdd2139a58",
   "metadata": {},
   "outputs": [],
   "source": []
  },
  {
   "cell_type": "code",
   "execution_count": 197,
   "id": "d06e71e9-72bd-4a32-bafd-afc43ad250c9",
   "metadata": {},
   "outputs": [],
   "source": [
    "criterion = nn.MSELoss()"
   ]
  },
  {
   "cell_type": "code",
   "execution_count": 198,
   "id": "805f8459-0e2e-4491-a07b-4c217c237d80",
   "metadata": {},
   "outputs": [],
   "source": [
    "optimizer=torch.optim.SGD(model.parameters(),lr=0.001)"
   ]
  },
  {
   "cell_type": "code",
   "execution_count": 199,
   "id": "8081c8d7-1ba8-4ef3-aa03-6ac7f8db08ed",
   "metadata": {},
   "outputs": [
    {
     "name": "stdout",
     "output_type": "stream",
     "text": [
      "epoch: 0  loss: 3057.216796875  weight: 0.10597813129425049  bias: 0.9637961387634277\n",
      "epoch: 1  loss: 1588.5306396484375  weight: 3.334900140762329  bias: 1.0604636669158936\n",
      "epoch: 2  loss: 830.2999267578125  weight: 1.014832854270935  bias: 0.9922628402709961\n",
      "epoch: 3  loss: 438.8521728515625  weight: 2.6817994117736816  bias: 1.0425218343734741\n",
      "epoch: 4  loss: 236.76144409179688  weight: 1.4840213060379028  bias: 1.0076650381088257\n",
      "epoch: 5  loss: 132.4291229248047  weight: 2.3446059226989746  bias: 1.0339646339416504\n",
      "epoch: 6  loss: 78.56572723388672  weight: 1.7262253761291504  bias: 1.0163217782974243\n",
      "epoch: 7  loss: 50.75775909423828  weight: 2.170504093170166  bias: 1.0302516222000122\n",
      "epoch: 8  loss: 36.4012336730957  weight: 1.8512457609176636  bias: 1.0214954614639282\n",
      "epoch: 9  loss: 28.989229202270508  weight: 2.0806007385253906  bias: 1.029038906097412\n",
      "epoch: 10  loss: 25.162382125854492  weight: 1.9157683849334717  bias: 1.0248701572418213\n",
      "epoch: 11  loss: 23.186473846435547  weight: 2.034165620803833  bias: 1.0291162729263306\n",
      "epoch: 12  loss: 22.166126251220703  weight: 1.9490584135055542  bias: 1.027315616607666\n",
      "epoch: 13  loss: 21.639110565185547  weight: 2.010172128677368  bias: 1.0298590660095215\n",
      "epoch: 14  loss: 21.366771697998047  weight: 1.9662237167358398  bias: 1.0292805433273315\n",
      "epoch: 15  loss: 21.22591781616211  weight: 1.997764229774475  bias: 1.030944585800171\n",
      "epoch: 16  loss: 21.15294647216797  weight: 1.9750648736953735  bias: 1.0309966802597046\n",
      "epoch: 17  loss: 21.115009307861328  weight: 1.991337537765503  bias: 1.032206416130066\n",
      "epoch: 18  loss: 21.095176696777344  weight: 1.9796085357666016  bias: 1.0325838327407837\n",
      "epoch: 19  loss: 21.084684371948242  weight: 1.9879988431930542  bias: 1.0335586071014404\n",
      "epoch: 20  loss: 21.07901382446289  weight: 1.981933355331421  bias: 1.034103512763977\n",
      "epoch: 21  loss: 21.075830459594727  weight: 1.9862544536590576  bias: 1.034956693649292\n",
      "epoch: 22  loss: 21.073938369750977  weight: 1.9831126928329468  bias: 1.0355877876281738\n",
      "epoch: 23  loss: 21.07270050048828  weight: 1.9853330850601196  bias: 1.0363779067993164\n",
      "epoch: 24  loss: 21.071819305419922  weight: 1.9837009906768799  bias: 1.037053108215332\n",
      "epoch: 25  loss: 21.07110595703125  weight: 1.9848365783691406  bias: 1.037810206413269\n",
      "epoch: 26  loss: 21.070486068725586  weight: 1.9839837551116943  bias: 1.0385079383850098\n",
      "epoch: 27  loss: 21.069913864135742  weight: 1.9845597743988037  bias: 1.039247751235962\n",
      "epoch: 28  loss: 21.069368362426758  weight: 1.9841090440750122  bias: 1.0399566888809204\n",
      "epoch: 29  loss: 21.068838119506836  weight: 1.9843961000442505  bias: 1.0406872034072876\n",
      "epoch: 30  loss: 21.068307876586914  weight: 1.984152913093567  bias: 1.0414016246795654\n",
      "epoch: 31  loss: 21.067781448364258  weight: 1.9842908382415771  bias: 1.042127013206482\n",
      "epoch: 32  loss: 21.0672607421875  weight: 1.9841549396514893  bias: 1.0428439378738403\n",
      "epoch: 33  loss: 21.066740036010742  weight: 1.9842157363891602  bias: 1.043566346168518\n",
      "epoch: 34  loss: 21.066225051879883  weight: 1.9841355085372925  bias: 1.0442842245101929\n",
      "epoch: 35  loss: 21.06570816040039  weight: 1.9841564893722534  bias: 1.0450047254562378\n",
      "epoch: 36  loss: 21.065187454223633  weight: 1.9841045141220093  bias: 1.0457227230072021\n",
      "epoch: 37  loss: 21.064668655395508  weight: 1.9841052293777466  bias: 1.046441912651062\n",
      "epoch: 38  loss: 21.064157485961914  weight: 1.9840680360794067  bias: 1.0471596717834473\n",
      "epoch: 39  loss: 21.063636779785156  weight: 1.984058141708374  bias: 1.0478779077529907\n",
      "epoch: 40  loss: 21.063125610351562  weight: 1.984028697013855  bias: 1.0485951900482178\n",
      "epoch: 41  loss: 21.062606811523438  weight: 1.9840131998062134  bias: 1.0493125915527344\n",
      "epoch: 42  loss: 21.062095642089844  weight: 1.98398756980896  bias: 1.0500292778015137\n",
      "epoch: 43  loss: 21.06157684326172  weight: 1.9839695692062378  bias: 1.0507458448410034\n",
      "epoch: 44  loss: 21.06106948852539  weight: 1.9839458465576172  bias: 1.051461935043335\n",
      "epoch: 45  loss: 21.06055450439453  weight: 1.9839262962341309  bias: 1.0521777868270874\n",
      "epoch: 46  loss: 21.060043334960938  weight: 1.9839037656784058  bias: 1.0528931617736816\n",
      "epoch: 47  loss: 21.059532165527344  weight: 1.9838833808898926  bias: 1.0536082983016968\n",
      "epoch: 48  loss: 21.05901336669922  weight: 1.9838614463806152  bias: 1.0543230772018433\n",
      "epoch: 49  loss: 21.058509826660156  weight: 1.9838409423828125  bias: 1.055037498474121\n"
     ]
    }
   ],
   "source": [
    "# model.float()\n",
    "\n",
    "# # Cast your input data to type Float\n",
    "# X = X.float()\n",
    "y = y.float()\n",
    "\n",
    "epochs=50\n",
    "losses=[]\n",
    "\n",
    "for i in range(epochs):\n",
    "    y_pred = model.forward(X)\n",
    "\n",
    "    loss = criterion(y_pred,y)\n",
    "\n",
    "    losses.append(loss)\n",
    "\n",
    "    print(f'epoch: {i}  loss: {loss.item()}  weight: {model.linear.weight.item()}  bias: {model.linear.bias.item()}') \n",
    "\n",
    "    optimizer.zero_grad()\n",
    "\n",
    "    loss.backward()\n",
    "    optimizer.step()"
   ]
  },
  {
   "cell_type": "code",
   "execution_count": 200,
   "id": "81c4a582-cf36-47ef-a2c1-47f4eea91e3e",
   "metadata": {},
   "outputs": [],
   "source": [
    "# As mentioned previously, the weights and bias should be near to 2 and 1 respectively. \n",
    "# There is slight variation because of e (error) in the equation."
   ]
  },
  {
   "cell_type": "code",
   "execution_count": null,
   "id": "00fe574d-293c-481d-96e0-42a6473be3c2",
   "metadata": {},
   "outputs": [],
   "source": []
  },
  {
   "cell_type": "code",
   "execution_count": 225,
   "id": "94193155-3a45-4eb2-b1eb-ae0c6bcad26f",
   "metadata": {},
   "outputs": [
    {
     "data": {
      "text/plain": [
       "Text(0.5, 0, 'Epochs')"
      ]
     },
     "execution_count": 225,
     "metadata": {},
     "output_type": "execute_result"
    },
    {
     "data": {
      "image/png": "[encoded data removed]",
      "text/plain": [
       "<Figure size 640x480 with 1 Axes>"
      ]
     },
     "metadata": {},
     "output_type": "display_data"
    }
   ],
   "source": [
    "losses_numpy = [loss.item() for loss in losses]\n",
    "plt.plot(range(epochs),losses_numpy)\n",
    "plt.ylabel('MSE Loss')\n",
    "plt.xlabel('Epochs')"
   ]
  },
  {
   "cell_type": "code",
   "execution_count": null,
   "id": "ea7a26e5-db5e-4b68-98ee-8a4ebe8e9626",
   "metadata": {},
   "outputs": [],
   "source": []
  },
  {
   "cell_type": "code",
   "execution_count": 224,
   "id": "456e2ef9-6ed3-4f83-a61b-9e9806b55cbf",
   "metadata": {},
   "outputs": [
    {
     "data": {
      "text/plain": [
       "<matplotlib.collections.PathCollection at 0x7f2a03f5da90>"
      ]
     },
     "execution_count": 224,
     "metadata": {},
     "output_type": "execute_result"
    },
    {
     "data": {
      "image/png": "[encoded data removed]",
      "text/plain": [
       "<Figure size 640x480 with 1 Axes>"
      ]
     },
     "metadata": {},
     "output_type": "display_data"
    }
   ],
   "source": [
    "plt.scatter(X.numpy(),y.numpy())\n",
    "plt.plot("
   ]
  },
  {
   "cell_type": "code",
   "execution_count": 228,
   "id": "89af8ff2-72a6-4bd3-a30e-05ef192a68a3",
   "metadata": {},
   "outputs": [],
   "source": [
    "x1=np.linspace(0,50.,50)\n",
    "current_weight = model.linear.weight.item()\n",
    "current_bias = model.linear.bias.item()\n",
    "\n",
    "y1= current_weight*x1+current_bias"
   ]
  },
  {
   "cell_type": "code",
   "execution_count": 230,
   "id": "53a8a896-c212-4b77-ac03-47ac142fb243",
   "metadata": {},
   "outputs": [
    {
     "data": {
      "text/plain": [
       "<matplotlib.collections.PathCollection at 0x7f2a01d4f250>"
      ]
     },
     "execution_count": 230,
     "metadata": {},
     "output_type": "execute_result"
    },
    {
     "data": {
      "image/png": "[encoded data removed]",
      "text/plain": [
       "<Figure size 640x480 with 1 Axes>"
      ]
     },
     "metadata": {},
     "output_type": "display_data"
    }
   ],
   "source": [
    "plt.plot(x1,y1,'r')\n",
    "plt.scatter(X.numpy(),y.numpy())"
   ]
  },
  {
   "cell_type": "code",
   "execution_count": null,
   "id": "94490366-ee46-4a1e-bc58-e92d5d9f64f8",
   "metadata": {},
   "outputs": [],
   "source": [
    "# We see that with the learned weights and bias, it is better able to predict."
   ]
  }
 ],
 "metadata": {
  "kernelspec": {
   "display_name": "Python 3 (ipykernel)",
   "language": "python",
   "name": "python3"
  },
  "language_info": {
   "codemirror_mode": {
    "name": "ipython",
    "version": 3
   },
   "file_extension": ".py",
   "mimetype": "text/x-python",
   "name": "python",
   "nbconvert_exporter": "python",
   "pygments_lexer": "ipython3",
   "version": "3.11.7"
  }
 },
 "nbformat": 4,
 "nbformat_minor": 5
}
